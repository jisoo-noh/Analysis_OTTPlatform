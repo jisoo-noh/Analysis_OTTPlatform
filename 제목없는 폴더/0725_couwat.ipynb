{
  "nbformat": 4,
  "nbformat_minor": 0,
  "metadata": {
    "colab": {
      "name": "0725_couwat.ipynb",
      "provenance": [],
      "collapsed_sections": []
    },
    "kernelspec": {
      "name": "python3",
      "display_name": "Python 3"
    },
    "language_info": {
      "name": "python"
    }
  },
  "cells": [
    {
      "cell_type": "code",
      "execution_count": 2,
      "metadata": {
        "id": "rfwWw7FPcUV6"
      },
      "outputs": [],
      "source": [
        "import pandas as pd\n",
        "import matplotlib.pyplot as plt\n",
        "import seaborn as sns"
      ]
    },
    {
      "cell_type": "code",
      "source": [
        "from google.colab import drive\n",
        "drive.mount('/content/drive')"
      ],
      "metadata": {
        "colab": {
          "base_uri": "https://localhost:8080/"
        },
        "id": "s4ILI8h5MSMf",
        "outputId": "84ff5d0f-6b17-474f-f27f-e63af5fe1373"
      },
      "execution_count": 1,
      "outputs": [
        {
          "output_type": "stream",
          "name": "stdout",
          "text": [
            "Drive already mounted at /content/drive; to attempt to forcibly remount, call drive.mount(\"/content/drive\", force_remount=True).\n"
          ]
        }
      ]
    },
    {
      "cell_type": "markdown",
      "source": [
        "# Coupang"
      ],
      "metadata": {
        "id": "ZMYSw56mcn49"
      }
    },
    {
      "cell_type": "code",
      "source": [
        "df = pd.read_csv('/content/drive/MyDrive/coupang.csv')\n",
        "df"
      ],
      "metadata": {
        "colab": {
          "base_uri": "https://localhost:8080/",
          "height": 424
        },
        "id": "a1XFMc-Acaht",
        "outputId": "9d173981-d0d3-4e67-c173-bb04ae0b00e7"
      },
      "execution_count": 3,
      "outputs": [
        {
          "output_type": "execute_result",
          "data": {
            "text/plain": [
              "      Unnamed: 0                                             review  \\\n",
              "0              0  10년전 첫째 낳기전 뱀다를 시즌5까지인가 봤었는데 임신하면서 태교땜에 참고 그만보...   \n",
              "1              1  와우회원인지 몇개월 됬는데 이런 콘텐츠가 있는줄 몰랐네요~와~해리포터가 ?????리...   \n",
              "2              2  초반엔 사실 컨텐츠 부족으로 있으나 마나 였고 차치 배달 때문에 해둔거라 방치 해뒀...   \n",
              "3              3  쿠팡을 갓팡이라 하는 이유 중 하나가 바로 쿠팡플레이일 정도로 감동받으며 서비스를 ...   \n",
              "4              4  쿠팡와우 몇년 사용중인데 이거 있다는거 오늘 알았음. ㅋㅋㅋㅋㅋㅋㅋ 정말 깊은 빡침...   \n",
              "...          ...                                                ...   \n",
              "9651        7651                                                  😀   \n",
              "9652        7652                                                사용자   \n",
              "9653        7653                                                쓰레기   \n",
              "9654        7654                                                쓰레기   \n",
              "9655        7655                                                 혜자   \n",
              "\n",
              "                                  title  \\\n",
              "0                         쿠팡플레이 너무 좋아요👍   \n",
              "1                                    최고   \n",
              "2                                 진짜 최고   \n",
              "3                애플TV용 앱개발 좀 서둘러 부탁드려요.   \n",
              "4     한달 배송포함 2900원에 이정도면 진짜 절.대 나쁜거 아님   \n",
              "...                                 ...   \n",
              "9651                                NaN   \n",
              "9652                                NaN   \n",
              "9653                                NaN   \n",
              "9654                                NaN   \n",
              "9655                                NaN   \n",
              "\n",
              "                                      developerResponse                 date  \\\n",
              "0     {'id': 26523819, 'body': '안녕하세요, 고객님. 쿠팡플레이 입니...  2021-11-24 00:47:10   \n",
              "1     {'id': 29022389, 'body': '안녕하세요 bhe808 고객님, 쿠팡...  2022-04-05 23:14:20   \n",
              "2     {'id': 29526690, 'body': '안녕하세요 악플만 적음 고객님, 쿠팡...  2022-04-30 07:49:46   \n",
              "3     {'id': 26683481, 'body': \"안녕하세요, 쿠팡플레이 입니다. 소중...  2021-12-05 15:50:10   \n",
              "4     {'id': 26397111, 'body': '안녕하세요, 고객님. 쿠팡플레이 입니...  2021-11-20 11:22:18   \n",
              "...                                                 ...                  ...   \n",
              "9651                                                NaN  2021-12-18 05:04:34   \n",
              "9652                                                NaN  2022-06-25 19:05:18   \n",
              "9653                                                NaN  2022-07-13 20:39:02   \n",
              "9654                                                NaN  2021-09-14 16:14:20   \n",
              "9655                                                NaN  2020-12-25 00:36:03   \n",
              "\n",
              "      rating   userName  \n",
              "0          5      쥬니 쥬니  \n",
              "1          5     bhe808  \n",
              "2          5     악플만 적음  \n",
              "3          5  Chadiiiii  \n",
              "4          5      넷플사용자  \n",
              "...      ...        ...  \n",
              "9651       4         유희  \n",
              "9652       5        윤석현  \n",
              "9653       1      에헤라디야  \n",
              "9654       1        김민욱  \n",
              "9655       5       김안박이  \n",
              "\n",
              "[9656 rows x 7 columns]"
            ],
            "text/html": [
              "\n",
              "  <div id=\"df-c55fcfff-cac9-40ac-8acc-81442ee3fb84\">\n",
              "    <div class=\"colab-df-container\">\n",
              "      <div>\n",
              "<style scoped>\n",
              "    .dataframe tbody tr th:only-of-type {\n",
              "        vertical-align: middle;\n",
              "    }\n",
              "\n",
              "    .dataframe tbody tr th {\n",
              "        vertical-align: top;\n",
              "    }\n",
              "\n",
              "    .dataframe thead th {\n",
              "        text-align: right;\n",
              "    }\n",
              "</style>\n",
              "<table border=\"1\" class=\"dataframe\">\n",
              "  <thead>\n",
              "    <tr style=\"text-align: right;\">\n",
              "      <th></th>\n",
              "      <th>Unnamed: 0</th>\n",
              "      <th>review</th>\n",
              "      <th>title</th>\n",
              "      <th>developerResponse</th>\n",
              "      <th>date</th>\n",
              "      <th>rating</th>\n",
              "      <th>userName</th>\n",
              "    </tr>\n",
              "  </thead>\n",
              "  <tbody>\n",
              "    <tr>\n",
              "      <th>0</th>\n",
              "      <td>0</td>\n",
              "      <td>10년전 첫째 낳기전 뱀다를 시즌5까지인가 봤었는데 임신하면서 태교땜에 참고 그만보...</td>\n",
              "      <td>쿠팡플레이 너무 좋아요👍</td>\n",
              "      <td>{'id': 26523819, 'body': '안녕하세요, 고객님. 쿠팡플레이 입니...</td>\n",
              "      <td>2021-11-24 00:47:10</td>\n",
              "      <td>5</td>\n",
              "      <td>쥬니 쥬니</td>\n",
              "    </tr>\n",
              "    <tr>\n",
              "      <th>1</th>\n",
              "      <td>1</td>\n",
              "      <td>와우회원인지 몇개월 됬는데 이런 콘텐츠가 있는줄 몰랐네요~와~해리포터가 ?????리...</td>\n",
              "      <td>최고</td>\n",
              "      <td>{'id': 29022389, 'body': '안녕하세요 bhe808 고객님, 쿠팡...</td>\n",
              "      <td>2022-04-05 23:14:20</td>\n",
              "      <td>5</td>\n",
              "      <td>bhe808</td>\n",
              "    </tr>\n",
              "    <tr>\n",
              "      <th>2</th>\n",
              "      <td>2</td>\n",
              "      <td>초반엔 사실 컨텐츠 부족으로 있으나 마나 였고 차치 배달 때문에 해둔거라 방치 해뒀...</td>\n",
              "      <td>진짜 최고</td>\n",
              "      <td>{'id': 29526690, 'body': '안녕하세요 악플만 적음 고객님, 쿠팡...</td>\n",
              "      <td>2022-04-30 07:49:46</td>\n",
              "      <td>5</td>\n",
              "      <td>악플만 적음</td>\n",
              "    </tr>\n",
              "    <tr>\n",
              "      <th>3</th>\n",
              "      <td>3</td>\n",
              "      <td>쿠팡을 갓팡이라 하는 이유 중 하나가 바로 쿠팡플레이일 정도로 감동받으며 서비스를 ...</td>\n",
              "      <td>애플TV용 앱개발 좀 서둘러 부탁드려요.</td>\n",
              "      <td>{'id': 26683481, 'body': \"안녕하세요, 쿠팡플레이 입니다. 소중...</td>\n",
              "      <td>2021-12-05 15:50:10</td>\n",
              "      <td>5</td>\n",
              "      <td>Chadiiiii</td>\n",
              "    </tr>\n",
              "    <tr>\n",
              "      <th>4</th>\n",
              "      <td>4</td>\n",
              "      <td>쿠팡와우 몇년 사용중인데 이거 있다는거 오늘 알았음. ㅋㅋㅋㅋㅋㅋㅋ 정말 깊은 빡침...</td>\n",
              "      <td>한달 배송포함 2900원에 이정도면 진짜 절.대 나쁜거 아님</td>\n",
              "      <td>{'id': 26397111, 'body': '안녕하세요, 고객님. 쿠팡플레이 입니...</td>\n",
              "      <td>2021-11-20 11:22:18</td>\n",
              "      <td>5</td>\n",
              "      <td>넷플사용자</td>\n",
              "    </tr>\n",
              "    <tr>\n",
              "      <th>...</th>\n",
              "      <td>...</td>\n",
              "      <td>...</td>\n",
              "      <td>...</td>\n",
              "      <td>...</td>\n",
              "      <td>...</td>\n",
              "      <td>...</td>\n",
              "      <td>...</td>\n",
              "    </tr>\n",
              "    <tr>\n",
              "      <th>9651</th>\n",
              "      <td>7651</td>\n",
              "      <td>😀</td>\n",
              "      <td>NaN</td>\n",
              "      <td>NaN</td>\n",
              "      <td>2021-12-18 05:04:34</td>\n",
              "      <td>4</td>\n",
              "      <td>유희</td>\n",
              "    </tr>\n",
              "    <tr>\n",
              "      <th>9652</th>\n",
              "      <td>7652</td>\n",
              "      <td>사용자</td>\n",
              "      <td>NaN</td>\n",
              "      <td>NaN</td>\n",
              "      <td>2022-06-25 19:05:18</td>\n",
              "      <td>5</td>\n",
              "      <td>윤석현</td>\n",
              "    </tr>\n",
              "    <tr>\n",
              "      <th>9653</th>\n",
              "      <td>7653</td>\n",
              "      <td>쓰레기</td>\n",
              "      <td>NaN</td>\n",
              "      <td>NaN</td>\n",
              "      <td>2022-07-13 20:39:02</td>\n",
              "      <td>1</td>\n",
              "      <td>에헤라디야</td>\n",
              "    </tr>\n",
              "    <tr>\n",
              "      <th>9654</th>\n",
              "      <td>7654</td>\n",
              "      <td>쓰레기</td>\n",
              "      <td>NaN</td>\n",
              "      <td>NaN</td>\n",
              "      <td>2021-09-14 16:14:20</td>\n",
              "      <td>1</td>\n",
              "      <td>김민욱</td>\n",
              "    </tr>\n",
              "    <tr>\n",
              "      <th>9655</th>\n",
              "      <td>7655</td>\n",
              "      <td>혜자</td>\n",
              "      <td>NaN</td>\n",
              "      <td>NaN</td>\n",
              "      <td>2020-12-25 00:36:03</td>\n",
              "      <td>5</td>\n",
              "      <td>김안박이</td>\n",
              "    </tr>\n",
              "  </tbody>\n",
              "</table>\n",
              "<p>9656 rows × 7 columns</p>\n",
              "</div>\n",
              "      <button class=\"colab-df-convert\" onclick=\"convertToInteractive('df-c55fcfff-cac9-40ac-8acc-81442ee3fb84')\"\n",
              "              title=\"Convert this dataframe to an interactive table.\"\n",
              "              style=\"display:none;\">\n",
              "        \n",
              "  <svg xmlns=\"http://www.w3.org/2000/svg\" height=\"24px\"viewBox=\"0 0 24 24\"\n",
              "       width=\"24px\">\n",
              "    <path d=\"M0 0h24v24H0V0z\" fill=\"none\"/>\n",
              "    <path d=\"M18.56 5.44l.94 2.06.94-2.06 2.06-.94-2.06-.94-.94-2.06-.94 2.06-2.06.94zm-11 1L8.5 8.5l.94-2.06 2.06-.94-2.06-.94L8.5 2.5l-.94 2.06-2.06.94zm10 10l.94 2.06.94-2.06 2.06-.94-2.06-.94-.94-2.06-.94 2.06-2.06.94z\"/><path d=\"M17.41 7.96l-1.37-1.37c-.4-.4-.92-.59-1.43-.59-.52 0-1.04.2-1.43.59L10.3 9.45l-7.72 7.72c-.78.78-.78 2.05 0 2.83L4 21.41c.39.39.9.59 1.41.59.51 0 1.02-.2 1.41-.59l7.78-7.78 2.81-2.81c.8-.78.8-2.07 0-2.86zM5.41 20L4 18.59l7.72-7.72 1.47 1.35L5.41 20z\"/>\n",
              "  </svg>\n",
              "      </button>\n",
              "      \n",
              "  <style>\n",
              "    .colab-df-container {\n",
              "      display:flex;\n",
              "      flex-wrap:wrap;\n",
              "      gap: 12px;\n",
              "    }\n",
              "\n",
              "    .colab-df-convert {\n",
              "      background-color: #E8F0FE;\n",
              "      border: none;\n",
              "      border-radius: 50%;\n",
              "      cursor: pointer;\n",
              "      display: none;\n",
              "      fill: #1967D2;\n",
              "      height: 32px;\n",
              "      padding: 0 0 0 0;\n",
              "      width: 32px;\n",
              "    }\n",
              "\n",
              "    .colab-df-convert:hover {\n",
              "      background-color: #E2EBFA;\n",
              "      box-shadow: 0px 1px 2px rgba(60, 64, 67, 0.3), 0px 1px 3px 1px rgba(60, 64, 67, 0.15);\n",
              "      fill: #174EA6;\n",
              "    }\n",
              "\n",
              "    [theme=dark] .colab-df-convert {\n",
              "      background-color: #3B4455;\n",
              "      fill: #D2E3FC;\n",
              "    }\n",
              "\n",
              "    [theme=dark] .colab-df-convert:hover {\n",
              "      background-color: #434B5C;\n",
              "      box-shadow: 0px 1px 3px 1px rgba(0, 0, 0, 0.15);\n",
              "      filter: drop-shadow(0px 1px 2px rgba(0, 0, 0, 0.3));\n",
              "      fill: #FFFFFF;\n",
              "    }\n",
              "  </style>\n",
              "\n",
              "      <script>\n",
              "        const buttonEl =\n",
              "          document.querySelector('#df-c55fcfff-cac9-40ac-8acc-81442ee3fb84 button.colab-df-convert');\n",
              "        buttonEl.style.display =\n",
              "          google.colab.kernel.accessAllowed ? 'block' : 'none';\n",
              "\n",
              "        async function convertToInteractive(key) {\n",
              "          const element = document.querySelector('#df-c55fcfff-cac9-40ac-8acc-81442ee3fb84');\n",
              "          const dataTable =\n",
              "            await google.colab.kernel.invokeFunction('convertToInteractive',\n",
              "                                                     [key], {});\n",
              "          if (!dataTable) return;\n",
              "\n",
              "          const docLinkHtml = 'Like what you see? Visit the ' +\n",
              "            '<a target=\"_blank\" href=https://colab.research.google.com/notebooks/data_table.ipynb>data table notebook</a>'\n",
              "            + ' to learn more about interactive tables.';\n",
              "          element.innerHTML = '';\n",
              "          dataTable['output_type'] = 'display_data';\n",
              "          await google.colab.output.renderOutput(dataTable, element);\n",
              "          const docLink = document.createElement('div');\n",
              "          docLink.innerHTML = docLinkHtml;\n",
              "          element.appendChild(docLink);\n",
              "        }\n",
              "      </script>\n",
              "    </div>\n",
              "  </div>\n",
              "  "
            ]
          },
          "metadata": {},
          "execution_count": 3
        }
      ]
    },
    {
      "cell_type": "code",
      "source": [
        "df.info()"
      ],
      "metadata": {
        "colab": {
          "base_uri": "https://localhost:8080/"
        },
        "id": "IWJ_TLmKccTi",
        "outputId": "b9c290b4-01a7-4ba9-93c1-7285a8de01cb"
      },
      "execution_count": 4,
      "outputs": [
        {
          "output_type": "stream",
          "name": "stdout",
          "text": [
            "<class 'pandas.core.frame.DataFrame'>\n",
            "RangeIndex: 9656 entries, 0 to 9655\n",
            "Data columns (total 7 columns):\n",
            " #   Column             Non-Null Count  Dtype \n",
            "---  ------             --------------  ----- \n",
            " 0   Unnamed: 0         9656 non-null   int64 \n",
            " 1   review             9656 non-null   object\n",
            " 2   title              2000 non-null   object\n",
            " 3   developerResponse  1939 non-null   object\n",
            " 4   date               9656 non-null   object\n",
            " 5   rating             9656 non-null   int64 \n",
            " 6   userName           9656 non-null   object\n",
            "dtypes: int64(2), object(5)\n",
            "memory usage: 528.2+ KB\n"
          ]
        }
      ]
    },
    {
      "cell_type": "code",
      "source": [
        "df.date = pd.to_datetime(df['date'])\n",
        "df.info()"
      ],
      "metadata": {
        "colab": {
          "base_uri": "https://localhost:8080/"
        },
        "id": "1BJIuWRHcdHA",
        "outputId": "4fdc68c2-7987-41eb-af38-2d7a05213fd5"
      },
      "execution_count": 5,
      "outputs": [
        {
          "output_type": "stream",
          "name": "stdout",
          "text": [
            "<class 'pandas.core.frame.DataFrame'>\n",
            "RangeIndex: 9656 entries, 0 to 9655\n",
            "Data columns (total 7 columns):\n",
            " #   Column             Non-Null Count  Dtype         \n",
            "---  ------             --------------  -----         \n",
            " 0   Unnamed: 0         9656 non-null   int64         \n",
            " 1   review             9656 non-null   object        \n",
            " 2   title              2000 non-null   object        \n",
            " 3   developerResponse  1939 non-null   object        \n",
            " 4   date               9656 non-null   datetime64[ns]\n",
            " 5   rating             9656 non-null   int64         \n",
            " 6   userName           9656 non-null   object        \n",
            "dtypes: datetime64[ns](1), int64(2), object(4)\n",
            "memory usage: 528.2+ KB\n"
          ]
        }
      ]
    },
    {
      "cell_type": "code",
      "source": [
        "df['quarter'] = df['date'].dt.quarter\n",
        "df.quarter"
      ],
      "metadata": {
        "colab": {
          "base_uri": "https://localhost:8080/"
        },
        "id": "kofH-KPCcfgu",
        "outputId": "8bd38d59-63fa-464d-c38f-8efc6f5de5f9"
      },
      "execution_count": 6,
      "outputs": [
        {
          "output_type": "execute_result",
          "data": {
            "text/plain": [
              "0       4\n",
              "1       2\n",
              "2       2\n",
              "3       4\n",
              "4       4\n",
              "       ..\n",
              "9651    4\n",
              "9652    2\n",
              "9653    3\n",
              "9654    3\n",
              "9655    4\n",
              "Name: quarter, Length: 9656, dtype: int64"
            ]
          },
          "metadata": {},
          "execution_count": 6
        }
      ]
    },
    {
      "cell_type": "code",
      "source": [
        "df['year'] = df['date'].dt.strftime('%Y')\n",
        "df.year"
      ],
      "metadata": {
        "colab": {
          "base_uri": "https://localhost:8080/"
        },
        "id": "XgIvcqL9cgKK",
        "outputId": "24d58980-1f4a-47b0-8319-adfc09ad8c96"
      },
      "execution_count": 7,
      "outputs": [
        {
          "output_type": "execute_result",
          "data": {
            "text/plain": [
              "0       2021\n",
              "1       2022\n",
              "2       2022\n",
              "3       2021\n",
              "4       2021\n",
              "        ... \n",
              "9651    2021\n",
              "9652    2022\n",
              "9653    2022\n",
              "9654    2021\n",
              "9655    2020\n",
              "Name: year, Length: 9656, dtype: object"
            ]
          },
          "metadata": {},
          "execution_count": 7
        }
      ]
    },
    {
      "cell_type": "code",
      "source": [
        "df.quarter = df.quarter.astype('str')"
      ],
      "metadata": {
        "id": "GILddLhTcg3L"
      },
      "execution_count": 8,
      "outputs": []
    },
    {
      "cell_type": "code",
      "source": [
        "df.quarter = df.year + '/' + df.quarter + 'Q'\n",
        "df.quarter"
      ],
      "metadata": {
        "colab": {
          "base_uri": "https://localhost:8080/"
        },
        "id": "vSqY8soXchUg",
        "outputId": "52880873-3505-419a-9343-3925575a7003"
      },
      "execution_count": 12,
      "outputs": [
        {
          "output_type": "execute_result",
          "data": {
            "text/plain": [
              "4673    2020/2020/4QQ\n",
              "8655    2020/2020/4QQ\n",
              "7618    2020/2020/4QQ\n",
              "8494    2020/2020/4QQ\n",
              "9534    2020/2020/4QQ\n",
              "            ...      \n",
              "255     2022/2022/3QQ\n",
              "580     2022/2022/3QQ\n",
              "1917    2022/2022/3QQ\n",
              "428     2022/2022/3QQ\n",
              "908     2022/2022/3QQ\n",
              "Name: quarter, Length: 9656, dtype: object"
            ]
          },
          "metadata": {},
          "execution_count": 12
        }
      ]
    },
    {
      "cell_type": "code",
      "source": [
        "df = df.sort_values(by=['date'])"
      ],
      "metadata": {
        "id": "hULwCWCsciOR"
      },
      "execution_count": 13,
      "outputs": []
    },
    {
      "cell_type": "code",
      "source": [
        "# coupang\n",
        "plt.subplots(figsize=(30,10))\n",
        "sns.lineplot(x='quarter', y='rating', data=df, ci = None)\n",
        "plt.show"
      ],
      "metadata": {
        "colab": {
          "base_uri": "https://localhost:8080/",
          "height": 625
        },
        "id": "UOQYvF6gci42",
        "outputId": "9b1a2f5a-8730-4e88-a4bd-0eeceb7a2166"
      },
      "execution_count": 18,
      "outputs": [
        {
          "output_type": "execute_result",
          "data": {
            "text/plain": [
              "<function matplotlib.pyplot.show>"
            ]
          },
          "metadata": {},
          "execution_count": 18
        },
        {
          "output_type": "display_data",
          "data": {
            "text/plain": [
              "<Figure size 2160x720 with 1 Axes>"
            ],
            "image/png": "[encoded data removed]"
          },
          "metadata": {
            "needs_background": "light"
          }
        }
      ]
    },
    {
      "cell_type": "markdown",
      "source": [
        "# Watcha"
      ],
      "metadata": {
        "id": "sd-tnO5ncqXl"
      }
    },
    {
      "cell_type": "code",
      "source": [
        "df1 = pd.read_csv('/content/drive/MyDrive/wat.csv')\n",
        "df1"
      ],
      "metadata": {
        "id": "sfxu6V3kcqG9",
        "colab": {
          "base_uri": "https://localhost:8080/",
          "height": 424
        },
        "outputId": "4e60ce92-eb87-4105-902f-368365791758"
      },
      "execution_count": null,
      "outputs": [
        {
          "output_type": "execute_result",
          "data": {
            "text/plain": [
              "       Unnamed: 0  rating                                             review  \\\n",
              "0               0       5  개발자 및 경영진분들 꼭 보시라고 별5개 답니다????? 꼭 읽으세요. 방금 결제마...   \n",
              "1               1       5  넷플릭스에서 왓챠로 넘어온지 2개월째입니당\\n음 영화를 좋아하시는 분이라면 넷플릭스...   \n",
              "2               2       5  업데이트 전으로 되돌리는 방법이 있나요?\\n최신으로 업데이트 한 후 다 본 작품도 ...   \n",
              "3               3       5  안녕하세요! 코로나때문에 너무 심심해서 넷플로 먼저 시작했는데 너무 볼 것이 없어 ...   \n",
              "4               4       5  맥북으로 보시려면 앱스토어에서 아이패드용 앱으로 다운 받으시면 됩니다~ 그리고 유튜...   \n",
              "...           ...     ...                                                ...   \n",
              "22300       20300       5                                                 꿀댐   \n",
              "22301       20301       5                                                 굿뜨   \n",
              "22302       20302       5                                                  ❤   \n",
              "22303       20303       3                                              . ...   \n",
              "22304       20304       5                                               👍👍👍👍   \n",
              "\n",
              "                      date    userName  \n",
              "0      2020-05-26 12:27:32         저내림  \n",
              "1      2020-04-06 06:40:28   dkqjfsqfe  \n",
              "2      2022-07-01 02:30:57        뾰롱로로  \n",
              "3      2020-08-25 01:03:45       jsa38  \n",
              "4      2021-03-01 10:45:08      dkjfew  \n",
              "...                    ...         ...  \n",
              "22300  2018-08-30 20:13:10  Google 사용자  \n",
              "22301  2019-08-30 12:35:15  Google 사용자  \n",
              "22302  2021-05-03 18:59:55         양지수  \n",
              "22303  2020-04-22 15:54:03  Google 사용자  \n",
              "22304  2016-10-14 16:42:13  Google 사용자  \n",
              "\n",
              "[22305 rows x 5 columns]"
            ],
            "text/html": [
              "\n",
              "  <div id=\"df-db3d65d4-9412-4755-b527-c6ced9545601\">\n",
              "    <div class=\"colab-df-container\">\n",
              "      <div>\n",
              "<style scoped>\n",
              "    .dataframe tbody tr th:only-of-type {\n",
              "        vertical-align: middle;\n",
              "    }\n",
              "\n",
              "    .dataframe tbody tr th {\n",
              "        vertical-align: top;\n",
              "    }\n",
              "\n",
              "    .dataframe thead th {\n",
              "        text-align: right;\n",
              "    }\n",
              "</style>\n",
              "<table border=\"1\" class=\"dataframe\">\n",
              "  <thead>\n",
              "    <tr style=\"text-align: right;\">\n",
              "      <th></th>\n",
              "      <th>Unnamed: 0</th>\n",
              "      <th>rating</th>\n",
              "      <th>review</th>\n",
              "      <th>date</th>\n",
              "      <th>userName</th>\n",
              "    </tr>\n",
              "  </thead>\n",
              "  <tbody>\n",
              "    <tr>\n",
              "      <th>0</th>\n",
              "      <td>0</td>\n",
              "      <td>5</td>\n",
              "      <td>개발자 및 경영진분들 꼭 보시라고 별5개 답니다????? 꼭 읽으세요. 방금 결제마...</td>\n",
              "      <td>2020-05-26 12:27:32</td>\n",
              "      <td>저내림</td>\n",
              "    </tr>\n",
              "    <tr>\n",
              "      <th>1</th>\n",
              "      <td>1</td>\n",
              "      <td>5</td>\n",
              "      <td>넷플릭스에서 왓챠로 넘어온지 2개월째입니당\\n음 영화를 좋아하시는 분이라면 넷플릭스...</td>\n",
              "      <td>2020-04-06 06:40:28</td>\n",
              "      <td>dkqjfsqfe</td>\n",
              "    </tr>\n",
              "    <tr>\n",
              "      <th>2</th>\n",
              "      <td>2</td>\n",
              "      <td>5</td>\n",
              "      <td>업데이트 전으로 되돌리는 방법이 있나요?\\n최신으로 업데이트 한 후 다 본 작품도 ...</td>\n",
              "      <td>2022-07-01 02:30:57</td>\n",
              "      <td>뾰롱로로</td>\n",
              "    </tr>\n",
              "    <tr>\n",
              "      <th>3</th>\n",
              "      <td>3</td>\n",
              "      <td>5</td>\n",
              "      <td>안녕하세요! 코로나때문에 너무 심심해서 넷플로 먼저 시작했는데 너무 볼 것이 없어 ...</td>\n",
              "      <td>2020-08-25 01:03:45</td>\n",
              "      <td>jsa38</td>\n",
              "    </tr>\n",
              "    <tr>\n",
              "      <th>4</th>\n",
              "      <td>4</td>\n",
              "      <td>5</td>\n",
              "      <td>맥북으로 보시려면 앱스토어에서 아이패드용 앱으로 다운 받으시면 됩니다~ 그리고 유튜...</td>\n",
              "      <td>2021-03-01 10:45:08</td>\n",
              "      <td>dkjfew</td>\n",
              "    </tr>\n",
              "    <tr>\n",
              "      <th>...</th>\n",
              "      <td>...</td>\n",
              "      <td>...</td>\n",
              "      <td>...</td>\n",
              "      <td>...</td>\n",
              "      <td>...</td>\n",
              "    </tr>\n",
              "    <tr>\n",
              "      <th>22300</th>\n",
              "      <td>20300</td>\n",
              "      <td>5</td>\n",
              "      <td>꿀댐</td>\n",
              "      <td>2018-08-30 20:13:10</td>\n",
              "      <td>Google 사용자</td>\n",
              "    </tr>\n",
              "    <tr>\n",
              "      <th>22301</th>\n",
              "      <td>20301</td>\n",
              "      <td>5</td>\n",
              "      <td>굿뜨</td>\n",
              "      <td>2019-08-30 12:35:15</td>\n",
              "      <td>Google 사용자</td>\n",
              "    </tr>\n",
              "    <tr>\n",
              "      <th>22302</th>\n",
              "      <td>20302</td>\n",
              "      <td>5</td>\n",
              "      <td>❤</td>\n",
              "      <td>2021-05-03 18:59:55</td>\n",
              "      <td>양지수</td>\n",
              "    </tr>\n",
              "    <tr>\n",
              "      <th>22303</th>\n",
              "      <td>20303</td>\n",
              "      <td>3</td>\n",
              "      <td>. ...</td>\n",
              "      <td>2020-04-22 15:54:03</td>\n",
              "      <td>Google 사용자</td>\n",
              "    </tr>\n",
              "    <tr>\n",
              "      <th>22304</th>\n",
              "      <td>20304</td>\n",
              "      <td>5</td>\n",
              "      <td>👍👍👍👍</td>\n",
              "      <td>2016-10-14 16:42:13</td>\n",
              "      <td>Google 사용자</td>\n",
              "    </tr>\n",
              "  </tbody>\n",
              "</table>\n",
              "<p>22305 rows × 5 columns</p>\n",
              "</div>\n",
              "      <button class=\"colab-df-convert\" onclick=\"convertToInteractive('df-db3d65d4-9412-4755-b527-c6ced9545601')\"\n",
              "              title=\"Convert this dataframe to an interactive table.\"\n",
              "              style=\"display:none;\">\n",
              "        \n",
              "  <svg xmlns=\"http://www.w3.org/2000/svg\" height=\"24px\"viewBox=\"0 0 24 24\"\n",
              "       width=\"24px\">\n",
              "    <path d=\"M0 0h24v24H0V0z\" fill=\"none\"/>\n",
              "    <path d=\"M18.56 5.44l.94 2.06.94-2.06 2.06-.94-2.06-.94-.94-2.06-.94 2.06-2.06.94zm-11 1L8.5 8.5l.94-2.06 2.06-.94-2.06-.94L8.5 2.5l-.94 2.06-2.06.94zm10 10l.94 2.06.94-2.06 2.06-.94-2.06-.94-.94-2.06-.94 2.06-2.06.94z\"/><path d=\"M17.41 7.96l-1.37-1.37c-.4-.4-.92-.59-1.43-.59-.52 0-1.04.2-1.43.59L10.3 9.45l-7.72 7.72c-.78.78-.78 2.05 0 2.83L4 21.41c.39.39.9.59 1.41.59.51 0 1.02-.2 1.41-.59l7.78-7.78 2.81-2.81c.8-.78.8-2.07 0-2.86zM5.41 20L4 18.59l7.72-7.72 1.47 1.35L5.41 20z\"/>\n",
              "  </svg>\n",
              "      </button>\n",
              "      \n",
              "  <style>\n",
              "    .colab-df-container {\n",
              "      display:flex;\n",
              "      flex-wrap:wrap;\n",
              "      gap: 12px;\n",
              "    }\n",
              "\n",
              "    .colab-df-convert {\n",
              "      background-color: #E8F0FE;\n",
              "      border: none;\n",
              "      border-radius: 50%;\n",
              "      cursor: pointer;\n",
              "      display: none;\n",
              "      fill: #1967D2;\n",
              "      height: 32px;\n",
              "      padding: 0 0 0 0;\n",
              "      width: 32px;\n",
              "    }\n",
              "\n",
              "    .colab-df-convert:hover {\n",
              "      background-color: #E2EBFA;\n",
              "      box-shadow: 0px 1px 2px rgba(60, 64, 67, 0.3), 0px 1px 3px 1px rgba(60, 64, 67, 0.15);\n",
              "      fill: #174EA6;\n",
              "    }\n",
              "\n",
              "    [theme=dark] .colab-df-convert {\n",
              "      background-color: #3B4455;\n",
              "      fill: #D2E3FC;\n",
              "    }\n",
              "\n",
              "    [theme=dark] .colab-df-convert:hover {\n",
              "      background-color: #434B5C;\n",
              "      box-shadow: 0px 1px 3px 1px rgba(0, 0, 0, 0.15);\n",
              "      filter: drop-shadow(0px 1px 2px rgba(0, 0, 0, 0.3));\n",
              "      fill: #FFFFFF;\n",
              "    }\n",
              "  </style>\n",
              "\n",
              "      <script>\n",
              "        const buttonEl =\n",
              "          document.querySelector('#df-db3d65d4-9412-4755-b527-c6ced9545601 button.colab-df-convert');\n",
              "        buttonEl.style.display =\n",
              "          google.colab.kernel.accessAllowed ? 'block' : 'none';\n",
              "\n",
              "        async function convertToInteractive(key) {\n",
              "          const element = document.querySelector('#df-db3d65d4-9412-4755-b527-c6ced9545601');\n",
              "          const dataTable =\n",
              "            await google.colab.kernel.invokeFunction('convertToInteractive',\n",
              "                                                     [key], {});\n",
              "          if (!dataTable) return;\n",
              "\n",
              "          const docLinkHtml = 'Like what you see? Visit the ' +\n",
              "            '<a target=\"_blank\" href=https://colab.research.google.com/notebooks/data_table.ipynb>data table notebook</a>'\n",
              "            + ' to learn more about interactive tables.';\n",
              "          element.innerHTML = '';\n",
              "          dataTable['output_type'] = 'display_data';\n",
              "          await google.colab.output.renderOutput(dataTable, element);\n",
              "          const docLink = document.createElement('div');\n",
              "          docLink.innerHTML = docLinkHtml;\n",
              "          element.appendChild(docLink);\n",
              "        }\n",
              "      </script>\n",
              "    </div>\n",
              "  </div>\n",
              "  "
            ]
          },
          "metadata": {},
          "execution_count": 45
        }
      ]
    },
    {
      "cell_type": "code",
      "source": [
        "df1.info()"
      ],
      "metadata": {
        "colab": {
          "base_uri": "https://localhost:8080/"
        },
        "id": "_izXuiVndCqj",
        "outputId": "78ef6dbe-05fa-4895-83b4-c1fa506fea2d"
      },
      "execution_count": null,
      "outputs": [
        {
          "output_type": "stream",
          "name": "stdout",
          "text": [
            "<class 'pandas.core.frame.DataFrame'>\n",
            "RangeIndex: 22305 entries, 0 to 22304\n",
            "Data columns (total 5 columns):\n",
            " #   Column      Non-Null Count  Dtype \n",
            "---  ------      --------------  ----- \n",
            " 0   Unnamed: 0  22305 non-null  int64 \n",
            " 1   rating      22305 non-null  int64 \n",
            " 2   review      22305 non-null  object\n",
            " 3   date        22305 non-null  object\n",
            " 4   userName    22305 non-null  object\n",
            "dtypes: int64(2), object(3)\n",
            "memory usage: 871.4+ KB\n"
          ]
        }
      ]
    },
    {
      "cell_type": "code",
      "source": [
        "df1.date = pd.to_datetime(df1['date'])\n",
        "df1.info()"
      ],
      "metadata": {
        "colab": {
          "base_uri": "https://localhost:8080/"
        },
        "id": "wZ6ixtxZdDbX",
        "outputId": "dd1a5855-e765-4cea-e64b-3a0076221c7d"
      },
      "execution_count": null,
      "outputs": [
        {
          "output_type": "stream",
          "name": "stdout",
          "text": [
            "<class 'pandas.core.frame.DataFrame'>\n",
            "RangeIndex: 22305 entries, 0 to 22304\n",
            "Data columns (total 5 columns):\n",
            " #   Column      Non-Null Count  Dtype         \n",
            "---  ------      --------------  -----         \n",
            " 0   Unnamed: 0  22305 non-null  int64         \n",
            " 1   rating      22305 non-null  int64         \n",
            " 2   review      22305 non-null  object        \n",
            " 3   date        22305 non-null  datetime64[ns]\n",
            " 4   userName    22305 non-null  object        \n",
            "dtypes: datetime64[ns](1), int64(2), object(2)\n",
            "memory usage: 871.4+ KB\n"
          ]
        }
      ]
    },
    {
      "cell_type": "code",
      "source": [
        "df1['quarter'] = df1['date'].dt.quarter\n",
        "df1.quarter"
      ],
      "metadata": {
        "colab": {
          "base_uri": "https://localhost:8080/"
        },
        "id": "XXSDrzMYdEQ5",
        "outputId": "979900e9-de40-405b-de93-b66fe77cc247"
      },
      "execution_count": null,
      "outputs": [
        {
          "output_type": "execute_result",
          "data": {
            "text/plain": [
              "0        2\n",
              "1        2\n",
              "2        3\n",
              "3        3\n",
              "4        1\n",
              "        ..\n",
              "22300    3\n",
              "22301    3\n",
              "22302    2\n",
              "22303    2\n",
              "22304    4\n",
              "Name: quarter, Length: 22305, dtype: int64"
            ]
          },
          "metadata": {},
          "execution_count": 48
        }
      ]
    },
    {
      "cell_type": "code",
      "source": [
        "df1['year'] = df1['date'].dt.strftime('%Y')\n",
        "df1.year"
      ],
      "metadata": {
        "colab": {
          "base_uri": "https://localhost:8080/"
        },
        "id": "VsDR4lfSdFBo",
        "outputId": "e8973d5d-4780-4cb9-fa14-d5846b9ce887"
      },
      "execution_count": null,
      "outputs": [
        {
          "output_type": "execute_result",
          "data": {
            "text/plain": [
              "0        2020\n",
              "1        2020\n",
              "2        2022\n",
              "3        2020\n",
              "4        2021\n",
              "         ... \n",
              "22300    2018\n",
              "22301    2019\n",
              "22302    2021\n",
              "22303    2020\n",
              "22304    2016\n",
              "Name: year, Length: 22305, dtype: object"
            ]
          },
          "metadata": {},
          "execution_count": 49
        }
      ]
    },
    {
      "cell_type": "code",
      "source": [
        "df1.quarter = df1.quarter.astype('str')"
      ],
      "metadata": {
        "id": "9w6nj_bGdGCV"
      },
      "execution_count": null,
      "outputs": []
    },
    {
      "cell_type": "code",
      "source": [
        "df1.quarter = df1.year + '/' + df1.quarter + 'Q'\n",
        "df1.quarter"
      ],
      "metadata": {
        "colab": {
          "base_uri": "https://localhost:8080/"
        },
        "id": "5ZjKW5ZVdGjl",
        "outputId": "be54471e-5c9c-4cac-9a60-de6310089336"
      },
      "execution_count": null,
      "outputs": [
        {
          "output_type": "execute_result",
          "data": {
            "text/plain": [
              "0        2020/2Q\n",
              "1        2020/2Q\n",
              "2        2022/3Q\n",
              "3        2020/3Q\n",
              "4        2021/1Q\n",
              "          ...   \n",
              "22300    2018/3Q\n",
              "22301    2019/3Q\n",
              "22302    2021/2Q\n",
              "22303    2020/2Q\n",
              "22304    2016/4Q\n",
              "Name: quarter, Length: 22305, dtype: object"
            ]
          },
          "metadata": {},
          "execution_count": 51
        }
      ]
    },
    {
      "cell_type": "code",
      "source": [
        "df1 = df1.sort_values(by=['date'])"
      ],
      "metadata": {
        "id": "W_H0L59WdHPY"
      },
      "execution_count": null,
      "outputs": []
    },
    {
      "cell_type": "code",
      "source": [
        "# watcha\n",
        "sns.lineplot(x='quarter', y='rating', data=df1, ci = None)\n",
        "plt.show"
      ],
      "metadata": {
        "colab": {
          "base_uri": "https://localhost:8080/",
          "height": 297
        },
        "id": "LNtxDmONdHpl",
        "outputId": "fe539fce-b1e4-4f2f-8fba-2c2c9f9ca497"
      },
      "execution_count": null,
      "outputs": [
        {
          "output_type": "execute_result",
          "data": {
            "text/plain": [
              "<function matplotlib.pyplot.show>"
            ]
          },
          "metadata": {},
          "execution_count": 56
        },
        {
          "output_type": "display_data",
          "data": {
            "text/plain": [
              "<Figure size 432x288 with 1 Axes>"
            ],
            "image/png": "[encoded data removed]"
          },
          "metadata": {
            "needs_background": "light"
          }
        }
      ]
    },
    {
      "cell_type": "code",
      "source": [
        ""
      ],
      "metadata": {
        "id": "ocCZ9gJDeMLb"
      },
      "execution_count": null,
      "outputs": []
    }
  ]
}